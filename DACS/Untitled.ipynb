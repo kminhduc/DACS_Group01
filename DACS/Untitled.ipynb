{
 "cells": [
  {
   "cell_type": "code",
   "execution_count": 2,
   "id": "a8da916f",
   "metadata": {},
   "outputs": [],
   "source": [
    "import pandas as pd"
   ]
  },
  {
   "cell_type": "code",
   "execution_count": 7,
   "id": "78378017",
   "metadata": {},
   "outputs": [],
   "source": [
    "df = pd.read_csv('UIdata.csv', encoding=\"utf-16\", delimiter='\\t')\n"
   ]
  },
  {
   "cell_type": "code",
   "execution_count": 14,
   "id": "eae114c4",
   "metadata": {},
   "outputs": [
    {
     "name": "stdout",
     "output_type": "stream",
     "text": [
      "<class 'pandas.core.frame.DataFrame'>\n",
      "Int64Index: 1475 entries, 0 to 2125\n",
      "Data columns (total 12 columns):\n",
      " #   Column             Non-Null Count  Dtype \n",
      "---  ------             --------------  ----- \n",
      " 0   Type               1475 non-null   object\n",
      " 1   Location           1475 non-null   object\n",
      " 2   name               1475 non-null   object\n",
      " 3   Price              1475 non-null   object\n",
      " 4   Road_Surface_Area  1475 non-null   object\n",
      " 5   Floor              1475 non-null   object\n",
      " 6   Bedrooms           1475 non-null   object\n",
      " 7   Parking            1475 non-null   object\n",
      " 8   Area               1475 non-null   object\n",
      " 9   Size               1475 non-null   object\n",
      " 10  Direction          1475 non-null   object\n",
      " 11  Link               1475 non-null   object\n",
      "dtypes: object(12)\n",
      "memory usage: 149.8+ KB\n"
     ]
    }
   ],
   "source": [
    "df.info()"
   ]
  },
  {
   "cell_type": "code",
   "execution_count": 13,
   "id": "a9bd858f",
   "metadata": {},
   "outputs": [],
   "source": [
    "df = df.drop_duplicates()"
   ]
  }
 ],
 "metadata": {
  "kernelspec": {
   "display_name": "Python 3 (ipykernel)",
   "language": "python",
   "name": "python3"
  },
  "language_info": {
   "codemirror_mode": {
    "name": "ipython",
    "version": 3
   },
   "file_extension": ".py",
   "mimetype": "text/x-python",
   "name": "python",
   "nbconvert_exporter": "python",
   "pygments_lexer": "ipython3",
   "version": "3.10.9"
  }
 },
 "nbformat": 4,
 "nbformat_minor": 5
}
